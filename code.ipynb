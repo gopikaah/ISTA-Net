{
 "cells": [
  {
   "cell_type": "code",
   "execution_count": 14,
   "metadata": {},
   "outputs": [],
   "source": [
    "#importing packages\n",
    "\n",
    "import torch\n",
    "import torch.nn as nn\n",
    "import torch.nn.functional as F\n",
    "import scipy.io as sio\n",
    "import numpy as np\n",
    "import os\n",
    "from torch.utils.data import Dataset, DataLoader\n",
    "import platform\n",
    "import torch.nn.init as init"
   ]
  },
  {
   "cell_type": "code",
   "execution_count": 3,
   "metadata": {},
   "outputs": [],
   "source": [
    "# initializing values\n",
    "\n",
    "start_epoch = 0\n",
    "end_epoch = 50\n",
    "learning_rate = 1e-4\n",
    "layer_num = 9\n",
    "group_num = 1\n",
    "cs_ratio = 25"
   ]
  },
  {
   "cell_type": "code",
   "execution_count": 4,
   "metadata": {},
   "outputs": [],
   "source": [
    "# compression ratios and input pixel dimentions\n",
    "\n",
    "ratio_dict = {1: 10, 4: 43, 10: 109, 25: 272, 30: 327, 40: 436, 50: 545}"
   ]
  },
  {
   "cell_type": "code",
   "execution_count": 5,
   "metadata": {},
   "outputs": [],
   "source": [
    "n_input = ratio_dict[cs_ratio]\n",
    "n_output = 1089\n",
    "\n",
    "# training block number\n",
    "ntrain_blocks = 88912\n",
    "batch_size = 64"
   ]
  },
  {
   "cell_type": "code",
   "execution_count": 6,
   "metadata": {},
   "outputs": [],
   "source": [
    "# loading sampling matrix\n",
    "\n",
    "phi_matrix = sio.loadmat(r'/home/kudsit/github_gopika/ISTA-Net/phi_0_25_1089.mat')"
   ]
  },
  {
   "cell_type": "code",
   "execution_count": 7,
   "metadata": {},
   "outputs": [
    {
     "data": {
      "text/plain": [
       "dict"
      ]
     },
     "execution_count": 7,
     "metadata": {},
     "output_type": "execute_result"
    }
   ],
   "source": [
    "type(phi_matrix)"
   ]
  },
  {
   "cell_type": "code",
   "execution_count": 8,
   "metadata": {},
   "outputs": [
    {
     "data": {
      "text/plain": [
       "{'__header__': b'MATLAB 5.0 MAT-file, Platform: GLNXA64, Created on: Mon Sep 28 13:52:26 2015',\n",
       " '__version__': '1.0',\n",
       " '__globals__': [],\n",
       " 'phi': array([[ 0.01110017, -0.00433498,  0.0031883 , ..., -0.01654842,\n",
       "         -0.02102439,  0.01379417],\n",
       "        [-0.01005728, -0.02996811,  0.06524745, ...,  0.06070643,\n",
       "         -0.01883776,  0.02234696],\n",
       "        [ 0.01976339,  0.01614716, -0.01344627, ..., -0.00730817,\n",
       "         -0.00801255,  0.01941273],\n",
       "        ...,\n",
       "        [ 0.01689902,  0.01530075,  0.04503205, ...,  0.02353648,\n",
       "         -0.01274751,  0.01843241],\n",
       "        [ 0.00188634, -0.02561448, -0.07956788, ..., -0.04413104,\n",
       "         -0.01198319,  0.00925998],\n",
       "        [-0.00873868, -0.01577827, -0.01665587, ..., -0.01382855,\n",
       "         -0.01844824,  0.02001504]])}"
      ]
     },
     "execution_count": 8,
     "metadata": {},
     "output_type": "execute_result"
    }
   ],
   "source": [
    "phi_matrix"
   ]
  },
  {
   "cell_type": "code",
   "execution_count": 9,
   "metadata": {},
   "outputs": [],
   "source": [
    "phi_input_matrix = phi_matrix['phi'] # sampling matrix"
   ]
  },
  {
   "cell_type": "code",
   "execution_count": 10,
   "metadata": {},
   "outputs": [],
   "source": [
    "training_data = r'/home/kudsit/github_gopika/ISTA-Net/Training_Data.mat' # training data"
   ]
  },
  {
   "cell_type": "code",
   "execution_count": 11,
   "metadata": {},
   "outputs": [],
   "source": [
    "Q_name = sio.loadmat(r'/home/kudsit/github_gopika/ISTA-Net/Initialization_Matrix_25.mat')\n",
    "q_init = Q_name['Qinit']   # inintialization matrix"
   ]
  },
  {
   "cell_type": "code",
   "execution_count": 12,
   "metadata": {},
   "outputs": [],
   "source": [
    "class BasicISTABlock(torch.nn.Module):\n",
    "    def __init__(self):\n",
    "        super(BasicISTABlock, self).__init__()\n",
    "        self.lambda_step = nn.Parameter(torch.Tensor([0.5]))\n",
    "        self.soft_thresh = nn.Parameter(torch.Tensor([0.1]))  # creates a tensor object with a single item\n",
    "\n",
    "        # \"Xavier normal\" refers to a method of initializing the weights of neural network layers.\n",
    "\n",
    "        # forward and backward convolutional layers\n",
    "\n",
    "        self.conv1_forward = nn.Parameter(init.xavier_normal_(torch.Tensor(32, 1, 3, 3)))\n",
    "        self.conv2_forward = nn.Parameter(init.xavier_normal_(torch.Tensor(32, 32, 3, 3)))\n",
    "        self.conv1_backward = nn.Parameter(init.xavier_normal_(torch.Tensor(32, 32, 3, 3)))\n",
    "        self.conv2_backward = nn.Parameter(init.xavier_normal_(torch.Tensor(1, 32, 3, 3)))\n",
    "\n",
    "        def forward(self, x, PhiTPhi, PhiTb):\n",
    "            x = x - self.lambda_step * torch.mm(x, PhiTPhi)\n",
    "            x = x + self.lambda_step * PhiTb\n",
    "            x_input = x.view(-1, 1, 33, 33)\n",
    "\n",
    "            x = F.conv2d(x_input, self.conv1_forward, padding=1)\n",
    "            x = F.relu(x)\n",
    "            x_forward = F.conv2d(x, self.conv2_forward, padding=1)\n",
    "\n",
    "            x = torch.mul(torch.sign(x_forward), F.relu(torch.abs(x_forward) - self.soft_thresh))\n",
    "\n",
    "            x = F.conv2d(x, self.conv1_backward, padding=1)\n",
    "            x = F.relu(x)\n",
    "            x_backward = F.conv2d(x, self.conv2_backward, padding=1)\n",
    "\n",
    "            x_pred = x_backward.view(-1, 1089)\n",
    "\n",
    "            x = F.conv2d(x_forward, self.conv1_backward, padding=1)\n",
    "            x = F.relu(x)\n",
    "            x_est = F.conv2d(x, self.conv2_backward, padding=1)\n",
    "            symloss = x_est - x_input\n",
    "\n",
    "            return [x_pred, symloss]"
   ]
  },
  {
   "cell_type": "code",
   "execution_count": 15,
   "metadata": {},
   "outputs": [],
   "source": [
    "# Define ISTA-Net\n",
    "class ISTANet(torch.nn.Module):\n",
    "    def __init__(self, LayerNo):\n",
    "        super(ISTANet, self).__init__()\n",
    "        onelayer = []\n",
    "        self.LayerNo = LayerNo\n",
    "        for i in range(LayerNo):\n",
    "            onelayer.append(BasicISTABlock())\n",
    "        self.fcs = nn.ModuleList(onelayer)\n",
    "    def forward(self, Phix, Phi, Qinit):\n",
    "        PhiTPhi = torch.mm(torch.transpose(Phi, 0, 1), Phi)\n",
    "        PhiTb = torch.mm(Phix, Phi)\n",
    "        x = torch.mm(Phix, torch.transpose(Qinit, 0, 1))\n",
    "        layers_sym = []   # for computing symmetric loss\n",
    "        for i in range(self.LayerNo):\n",
    "            [x, layer_sym] = self.fcs[i](x, PhiTPhi, PhiTb)\n",
    "            layers_sym.append(layer_sym)\n",
    "        x_final = x\n",
    "        return [x_final, layers_sym]\n",
    "model = ISTANet(layer_num)\n",
    "model = nn.DataParallel(model)"
   ]
  },
  {
   "cell_type": "code",
   "execution_count": null,
   "metadata": {},
   "outputs": [],
   "source": [
    "print_flag = 1   # print parameter number\n",
    "\n",
    "if print_flag:\n",
    "    num_count = 0\n",
    "    for para in model.parameters():\n",
    "        num_count += 1\n",
    "        print('Layer %d' % num_count)\n",
    "        print(para.size())\n",
    "\n",
    "\n",
    "\n",
    "class RandomDataset(Dataset):\n",
    "    def __init__(self, data, length):\n",
    "        self.data = data\n",
    "        self.len = length\n",
    "\n",
    "    def __getitem__(self, index):\n",
    "        return torch.Tensor(self.data[index, :]).float()\n",
    "\n",
    "    def __len__(self):\n",
    "        return self.len\n",
    "\n",
    "\n",
    "if (platform.system() ==\"Windows\"):\n",
    "    rand_loader = DataLoader(dataset=RandomDataset(Training_labels, nrtrain), batch_size=batch_size, num_workers=0,\n",
    "                             shuffle=True)\n",
    "else:\n",
    "    rand_loader = DataLoader(dataset=RandomDataset(Training_labels, nrtrain), batch_size=batch_size, num_workers=4,\n",
    "                             shuffle=True)\n",
    "\n",
    "optimizer = torch.optim.Adam(model.parameters(), lr=learning_rate)\n",
    "\n",
    "model_dir = \"./%s/CS_ISTA_Net_layer_%d_group_%d_ratio_%d_lr_%.4f\" % (args.model_dir, layer_num, group_num, cs_ratio, learning_rate)\n",
    "\n",
    "log_file_name = \"./%s/Log_CS_ISTA_Net_layer_%d_group_%d_ratio_%d_lr_%.4f.txt\" % (args.log_dir, layer_num, group_num, cs_ratio, learning_rate)\n",
    "\n",
    "if not os.path.exists(model_dir):\n",
    "    os.makedirs(model_dir)\n",
    "\n",
    "\n",
    "if start_epoch > 0:\n",
    "    pre_model_dir = model_dir\n",
    "    model.load_state_dict(torch.load('./%s/net_params_%d.pkl' % (pre_model_dir, start_epoch)))\n",
    "\n",
    "\n",
    "Phi = torch.from_numpy(Phi_input).type(torch.FloatTensor)\n",
    "Phi = Phi.to(device)\n",
    "\n",
    "Qinit = torch.from_numpy(Qinit).type(torch.FloatTensor)\n",
    "Qinit = Qinit.to(device)\n",
    "\n",
    "\n",
    "# Training loop\n",
    "for epoch_i in range(start_epoch+1, end_epoch+1):\n",
    "    for data in rand_loader:\n",
    "\n",
    "        batch_x = data\n",
    "        batch_x = batch_x.to(device)\n",
    "\n",
    "        Phix = torch.mm(batch_x, torch.transpose(Phi, 0, 1))\n",
    "\n",
    "        [x_output, loss_layers_sym] = model(Phix, Phi, Qinit)\n",
    "\n",
    "        # Compute and print loss\n",
    "        loss_discrepancy = torch.mean(torch.pow(x_output - batch_x, 2))\n",
    "\n",
    "        loss_constraint = torch.mean(torch.pow(loss_layers_sym[0], 2))\n",
    "        for k in range(layer_num-1):\n",
    "            loss_constraint += torch.mean(torch.pow(loss_layers_sym[k+1], 2))\n",
    "\n",
    "        gamma = torch.Tensor([0.01]).to(device)\n",
    "\n",
    "        # loss_all = loss_discrepancy\n",
    "        loss_all = loss_discrepancy + torch.mul(gamma, loss_constraint)\n",
    "\n",
    "        # Zero gradients, perform a backward pass, and update the weights.\n",
    "        optimizer.zero_grad()\n",
    "        loss_all.backward()\n",
    "        optimizer.step()\n",
    "\n",
    "        output_data = \"[%02d/%02d] Total Loss: %.4f, Discrepancy Loss: %.4f,  Constraint Loss: %.4f\\n\" % (epoch_i, end_epoch, loss_all.item(), loss_discrepancy.item(), loss_constraint)\n",
    "        print(output_data)\n",
    "\n",
    "    output_file = open(log_file_name, 'a')\n",
    "    output_file.write(output_data)\n",
    "    output_file.close()\n",
    "\n",
    "    if epoch_i % 5 == 0:\n",
    "        torch.save(model.state_dict(), \"./%s/net_params_%d.pkl\" % (model_dir, epoch_i))  # save only the parameters\n"
   ]
  }
 ],
 "metadata": {
  "kernelspec": {
   "display_name": "Python 3",
   "language": "python",
   "name": "python3"
  },
  "language_info": {
   "codemirror_mode": {
    "name": "ipython",
    "version": 3
   },
   "file_extension": ".py",
   "mimetype": "text/x-python",
   "name": "python",
   "nbconvert_exporter": "python",
   "pygments_lexer": "ipython3",
   "version": "3.11.3"
  },
  "orig_nbformat": 4
 },
 "nbformat": 4,
 "nbformat_minor": 2
}
